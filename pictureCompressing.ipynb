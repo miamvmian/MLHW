{
  "nbformat": 4,
  "nbformat_minor": 0,
  "metadata": {
    "colab": {
      "provenance": [],
      "authorship_tag": "ABX9TyPGUQvQM4xqyxGJM8BiKmeX",
      "include_colab_link": true
    },
    "kernelspec": {
      "name": "python3",
      "display_name": "Python 3"
    },
    "language_info": {
      "name": "python"
    }
  },
  "cells": [
    {
      "cell_type": "markdown",
      "metadata": {
        "id": "view-in-github",
        "colab_type": "text"
      },
      "source": [
        "<a href=\"https://colab.research.google.com/github/miamvmian/MLHW/blob/main/pictureCompressing.ipynb\" target=\"_parent\"><img src=\"https://colab.research.google.com/assets/colab-badge.svg\" alt=\"Open In Colab\"/></a>"
      ]
    },
    {
      "cell_type": "code",
      "source": [
        "import os\n",
        "from pathlib import PurePath\n",
        "\n",
        "cwd = os.getcwd()\n",
        "p = PurePath(cwd)\n",
        "flist = os.listdir()\n",
        "print(f\"cwd:{cwd}, path:{p}, file list: {flist}\")"
      ],
      "metadata": {
        "colab": {
          "base_uri": "https://localhost:8080/"
        },
        "id": "Z53Yq7YWe5PL",
        "outputId": "b42aaa76-6d63-46cb-b6ac-1f6d72acaba2"
      },
      "execution_count": 5,
      "outputs": [
        {
          "output_type": "stream",
          "name": "stdout",
          "text": [
            "cwd:/content, path:/content, file list: ['.config', '2.png', 'sample_data']\n"
          ]
        }
      ]
    },
    {
      "cell_type": "code",
      "source": [
        "from PIL import Image\n",
        "\n",
        "\n",
        "# 打开一个图片文件\n",
        "img = Image.open('2.png')\n",
        "\n",
        "# 设置压缩后的图片尺寸\n",
        "width, height = img.size\n",
        "new_width = width // 2  # 比如我们这里将宽度和高度都减半\n",
        "new_height = height // 2\n",
        "\n",
        "# 使用ANTIALIAS滤镜来处理图片缩放，以提高压缩后的图片质量\n",
        "img_resized = img.resize((new_width, new_height), Image.ANTIALIAS)\n",
        "\n",
        "# 保存压缩后的图片\n",
        "img_resized.save('2.1.png')"
      ],
      "metadata": {
        "colab": {
          "base_uri": "https://localhost:8080/"
        },
        "id": "3SyKCIXbeOvv",
        "outputId": "146a0635-e275-43d9-eedd-1d5ddfd9c136"
      },
      "execution_count": 6,
      "outputs": [
        {
          "output_type": "stream",
          "name": "stderr",
          "text": [
            "<ipython-input-6-a781239a44a6>:13: DeprecationWarning: ANTIALIAS is deprecated and will be removed in Pillow 10 (2023-07-01). Use LANCZOS or Resampling.LANCZOS instead.\n",
            "  img_resized = img.resize((new_width, new_height), Image.ANTIALIAS)\n"
          ]
        }
      ]
    },
    {
      "cell_type": "code",
      "source": [],
      "metadata": {
        "id": "r-FpICO_hDs_"
      },
      "execution_count": null,
      "outputs": []
    }
  ]
}