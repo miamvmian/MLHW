{
  "nbformat": 4,
  "nbformat_minor": 0,
  "metadata": {
    "colab": {
      "provenance": [],
      "authorship_tag": "ABX9TyOGoH418xm/0MSHTPCYvgaS",
      "include_colab_link": true
    },
    "kernelspec": {
      "name": "python3",
      "display_name": "Python 3"
    },
    "language_info": {
      "name": "python"
    }
  },
  "cells": [
    {
      "cell_type": "markdown",
      "metadata": {
        "id": "view-in-github",
        "colab_type": "text"
      },
      "source": [
        "<a href=\"https://colab.research.google.com/github/miamvmian/MLHW/blob/main/pictureCompressing.ipynb\" target=\"_parent\"><img src=\"https://colab.research.google.com/assets/colab-badge.svg\" alt=\"Open In Colab\"/></a>"
      ]
    },
    {
      "cell_type": "code",
      "source": [
        "import os\n",
        "from pathlib import PurePath\n",
        "\n",
        "cwd = os.getcwd()\n",
        "p = PurePath(cwd)\n",
        "flist = os.listdir()\n",
        "print(f\"cwd:{cwd}, path:{p}, file list: {flist}\")"
      ],
      "metadata": {
        "colab": {
          "base_uri": "https://localhost:8080/"
        },
        "id": "Z53Yq7YWe5PL",
        "outputId": "7f648d04-ae8c-4e24-88a5-d375d76abe7f"
      },
      "execution_count": 66,
      "outputs": [
        {
          "output_type": "stream",
          "name": "stdout",
          "text": [
            "cwd:/content, path:/content, file list: ['.config', 'tesseract', '2.1.png', '2.png', 'sample_data']\n"
          ]
        }
      ]
    },
    {
      "cell_type": "code",
      "source": [
        "! git clone https://github.com/tesseract-ocr/tesseract.git\n",
        "!sudo apt install tesseract-ocr\n",
        "!pip install pytesseract\n",
        "!sudo apt-get install tesseract-ocr-chi-sim # 简体中文"
      ],
      "metadata": {
        "id": "mN688Pe7l8UK",
        "outputId": "58fce919-85ae-430d-f857-61568dfbeea4",
        "colab": {
          "base_uri": "https://localhost:8080/"
        }
      },
      "execution_count": 58,
      "outputs": [
        {
          "output_type": "stream",
          "name": "stdout",
          "text": [
            "fatal: destination path 'tesseract' already exists and is not an empty directory.\n",
            "Reading package lists... Done\n",
            "Building dependency tree... Done\n",
            "Reading state information... Done\n",
            "tesseract-ocr is already the newest version (4.1.1-2.1build1).\n",
            "0 upgraded, 0 newly installed, 0 to remove and 45 not upgraded.\n",
            "Requirement already satisfied: pytesseract in /usr/local/lib/python3.10/dist-packages (0.3.10)\n",
            "Requirement already satisfied: packaging>=21.3 in /usr/local/lib/python3.10/dist-packages (from pytesseract) (24.0)\n",
            "Requirement already satisfied: Pillow>=8.0.0 in /usr/local/lib/python3.10/dist-packages (from pytesseract) (9.4.0)\n",
            "Reading package lists... Done\n",
            "Building dependency tree... Done\n",
            "Reading state information... Done\n",
            "The following NEW packages will be installed:\n",
            "  tesseract-ocr-chi-sim\n",
            "0 upgraded, 1 newly installed, 0 to remove and 45 not upgraded.\n",
            "Need to get 1,634 kB of archives.\n",
            "After this operation, 2,484 kB of additional disk space will be used.\n",
            "Get:1 http://archive.ubuntu.com/ubuntu jammy/universe amd64 tesseract-ocr-chi-sim all 1:4.00~git30-7274cfa-1.1 [1,634 kB]\n",
            "Fetched 1,634 kB in 1s (2,423 kB/s)\n",
            "debconf: unable to initialize frontend: Dialog\n",
            "debconf: (No usable dialog-like program is installed, so the dialog based frontend cannot be used. at /usr/share/perl5/Debconf/FrontEnd/Dialog.pm line 78, <> line 1.)\n",
            "debconf: falling back to frontend: Readline\n",
            "debconf: unable to initialize frontend: Readline\n",
            "debconf: (This frontend requires a controlling tty.)\n",
            "debconf: falling back to frontend: Teletype\n",
            "dpkg-preconfigure: unable to re-open stdin: \n",
            "Selecting previously unselected package tesseract-ocr-chi-sim.\n",
            "(Reading database ... 121933 files and directories currently installed.)\n",
            "Preparing to unpack .../tesseract-ocr-chi-sim_1%3a4.00~git30-7274cfa-1.1_all.deb ...\n",
            "Unpacking tesseract-ocr-chi-sim (1:4.00~git30-7274cfa-1.1) ...\n",
            "Setting up tesseract-ocr-chi-sim (1:4.00~git30-7274cfa-1.1) ...\n"
          ]
        }
      ]
    },
    {
      "cell_type": "code",
      "source": [
        "try:\n",
        "  import pytesseract\n",
        "except ModuleNotFoundError:\n",
        "  ! pip install pytesseract\n",
        "finally:\n",
        "  import pytesseract"
      ],
      "metadata": {
        "id": "MhDoNgwZlEy2"
      },
      "execution_count": 67,
      "outputs": []
    },
    {
      "cell_type": "code",
      "source": [
        "from PIL import Image\n",
        "\n",
        "# 打开一个图片文件\n",
        "img = Image.open('2.png')\n",
        "\n",
        "# 设置压缩后的图片尺寸\n",
        "width, height = img.size\n",
        "new_width = width // 4  # 比如我们这里将宽度和高度都减半\n",
        "new_height = height // 4\n",
        "\n",
        "# 使用ANTIALIAS滤镜来处理图片缩放，以提高压缩后的图片质量\n",
        "img_resized = img.resize((new_width, new_height), Image.ANTIALIAS)\n",
        "\n",
        "# 保存压缩后的图片\n",
        "img_resized.save('2.1.png')"
      ],
      "metadata": {
        "colab": {
          "base_uri": "https://localhost:8080/"
        },
        "id": "3SyKCIXbeOvv",
        "outputId": "e59b3516-b9bf-4123-d20c-34551121812a"
      },
      "execution_count": 68,
      "outputs": [
        {
          "output_type": "stream",
          "name": "stderr",
          "text": [
            "<ipython-input-68-c496badc609b>:12: DeprecationWarning: ANTIALIAS is deprecated and will be removed in Pillow 10 (2023-07-01). Use LANCZOS or Resampling.LANCZOS instead.\n",
            "  img_resized = img.resize((new_width, new_height), Image.ANTIALIAS)\n"
          ]
        }
      ]
    },
    {
      "cell_type": "code",
      "source": [
        "import pytesseract\n",
        "from PIL import Image\n",
        "\n",
        "# 如果Tesseract不在你的PATH中，你需要指明它的安装位置\n",
        "# pytesseract.pytesseract.tesseract_cmd = r'C:\\Program Files\\Tesseract-OCR\\tesseract.exe'  # Windows系统例子\n",
        "pytesseract.pytesseract.tesseract_cmd = 'tesseract'  # Linux系统例子\n",
        "\n",
        "\n",
        "\n",
        "def extract_text_from_image(image_path):\n",
        "    # 打开图片文件\n",
        "    img = Image.open(image_path)\n",
        "    # 使用pytesseract来进行图片中文字的提取\n",
        "    text = pytesseract.image_to_string(img, lang='chi_sim')  # 'eng'表示使用英语字符集，如果是其他语言可能需要更改\n",
        "    return text\n",
        "\n",
        "# 测试函数\n",
        "# 替换为你的图片文件路径\n",
        "image_path = \"1.jpg\"\n",
        "\n",
        "extracted_text = extract_text_from_image(image_path)\n",
        "# cleaned_text = ''.join(filter(str.isdigit, extracted_text))  # 移除非数字字符\n",
        "\n",
        "# # 如果清洗后的文本不为空，则尝试转换为整数\n",
        "# if cleaned_text:\n",
        "#     number = int(cleaned_text)\n",
        "#     print(number)\n",
        "# else:\n",
        "#     print(\"No digits found in the extracted text.\")\n",
        "\n",
        "# # print(int(extracted_text))"
      ],
      "metadata": {
        "id": "r-FpICO_hDs_"
      },
      "execution_count": 72,
      "outputs": []
    },
    {
      "cell_type": "code",
      "source": [
        "extracted_text"
      ],
      "metadata": {
        "id": "WlVzldLKr_c7",
        "outputId": "75399be4-c2a1-45a3-88bf-d712f2a07335",
        "colab": {
          "base_uri": "https://localhost:8080/",
          "height": 36
        }
      },
      "execution_count": 73,
      "outputs": [
        {
          "output_type": "execute_result",
          "data": {
            "text/plain": [
              "'    \\n\\n天二质感圣面\\n\\x0c'"
            ],
            "application/vnd.google.colaboratory.intrinsic+json": {
              "type": "string"
            }
          },
          "metadata": {},
          "execution_count": 73
        }
      ]
    },
    {
      "cell_type": "code",
      "source": [],
      "metadata": {
        "id": "ssPdJA798j9t"
      },
      "execution_count": null,
      "outputs": []
    }
  ]
}