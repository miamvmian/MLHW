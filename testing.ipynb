{
  "nbformat": 4,
  "nbformat_minor": 0,
  "metadata": {
    "colab": {
      "provenance": [],
      "authorship_tag": "ABX9TyM1ekia+56QDUpJQPIgreZq",
      "include_colab_link": true
    },
    "kernelspec": {
      "name": "python3",
      "display_name": "Python 3"
    },
    "language_info": {
      "name": "python"
    }
  },
  "cells": [
    {
      "cell_type": "markdown",
      "metadata": {
        "id": "view-in-github",
        "colab_type": "text"
      },
      "source": [
        "<a href=\"https://colab.research.google.com/github/miamvmian/MLHW/blob/main/testing.ipynb\" target=\"_parent\"><img src=\"https://colab.research.google.com/assets/colab-badge.svg\" alt=\"Open In Colab\"/></a>"
      ]
    },
    {
      "cell_type": "code",
      "source": [
        "! git clone https://github.com/miamvmian/Sk-ML-FNO-Project-2024.git"
      ],
      "metadata": {
        "colab": {
          "base_uri": "https://localhost:8080/"
        },
        "id": "cfZ8IdFDTFgz",
        "outputId": "cb66c6cf-8538-4b62-d067-087f31248d3b"
      },
      "execution_count": 1,
      "outputs": [
        {
          "output_type": "stream",
          "name": "stdout",
          "text": [
            "Cloning into 'Sk-ML-FNO-Project-2024'...\n",
            "remote: Enumerating objects: 37, done.\u001b[K\n",
            "remote: Counting objects: 100% (37/37), done.\u001b[K\n",
            "remote: Compressing objects: 100% (37/37), done.\u001b[K\n",
            "remote: Total 37 (delta 11), reused 0 (delta 0), pack-reused 0\u001b[K\n",
            "Receiving objects: 100% (37/37), 20.69 MiB | 13.69 MiB/s, done.\n",
            "Resolving deltas: 100% (11/11), done.\n"
          ]
        }
      ]
    },
    {
      "cell_type": "code",
      "execution_count": 3,
      "metadata": {
        "colab": {
          "base_uri": "https://localhost:8080/"
        },
        "id": "Bt8jZ2zUSyvh",
        "outputId": "2e055211-3df4-456d-e73d-454541cbb045"
      },
      "outputs": [
        {
          "output_type": "stream",
          "name": "stdout",
          "text": [
            "Current Folder is: /content/Sk-ML-FNO-Project-2024\n"
          ]
        }
      ],
      "source": [
        "import torch\n",
        "import os\n",
        "from pathlib import PurePath\n",
        "\n",
        "\n",
        "cwd = os.getcwd()\n",
        "p = PurePath(cwd)\n",
        "flist = os.listdir()\n",
        "\n",
        "mainfolder = 'Sk-ML-FNO-Project-2024'\n",
        "\n",
        "# os.chdir('Sk-ML-FNO-Project-2024')\n",
        "if p.parts[-1] != mainfolder and mainfolder in flist:\n",
        "  os.chdir(mainfolder)\n",
        "print(f\"Current Folder is: {os.getcwd()}\")\n",
        "\n",
        "# from google.colab import drive\n",
        "# drive.mount('/content/drive')"
      ]
    },
    {
      "cell_type": "code",
      "source": [
        "from Model import FNO1d\n",
        "modes = 16\n",
        "width = 64\n",
        "model = FNO1d(modes,width)\n",
        "state_dict = torch.load(\"fno-1d-10layers.pth\",map_location=torch.device('cpu'))\n",
        "model.load_state_dict(state_dict)"
      ],
      "metadata": {
        "id": "KX1dkYKMUBsX"
      },
      "execution_count": 6,
      "outputs": []
    },
    {
      "cell_type": "code",
      "source": [],
      "metadata": {
        "id": "P1iQxUakUBqH"
      },
      "execution_count": 9,
      "outputs": []
    },
    {
      "cell_type": "code",
      "source": [],
      "metadata": {
        "id": "KD-D0SsZUBn9"
      },
      "execution_count": null,
      "outputs": []
    },
    {
      "cell_type": "code",
      "source": [],
      "metadata": {
        "id": "OviMXRwdUA3j"
      },
      "execution_count": null,
      "outputs": []
    },
    {
      "cell_type": "code",
      "source": [],
      "metadata": {
        "id": "99ub1LBpTXa7"
      },
      "execution_count": null,
      "outputs": []
    }
  ]
}